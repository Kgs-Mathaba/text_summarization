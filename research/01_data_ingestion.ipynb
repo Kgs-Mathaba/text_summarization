{
 "cells": [
  {
   "cell_type": "code",
   "execution_count": 29,
   "metadata": {},
   "outputs": [],
   "source": [
    "import os"
   ]
  },
  {
   "cell_type": "code",
   "execution_count": 30,
   "metadata": {},
   "outputs": [
    {
     "data": {
      "text/plain": [
       "'/Users/nthabiseng/Desktop/text_summarization'"
      ]
     },
     "execution_count": 30,
     "metadata": {},
     "output_type": "execute_result"
    }
   ],
   "source": [
    "%pwd"
   ]
  },
  {
   "cell_type": "code",
   "execution_count": 27,
   "metadata": {},
   "outputs": [],
   "source": [
    "os.chdir(\"Desktop/text_summarization\")"
   ]
  },
  {
   "cell_type": "code",
   "execution_count": 1,
   "metadata": {},
   "outputs": [],
   "source": [
    "from dataclasses import dataclass\n",
    "from pathlib import Path\n",
    "\n",
    "@dataclass(frozen=True)\n",
    "class DataIngestionConfig:\n",
    "    \"\"\"\n",
    "    Configuration class for data ingestion.\n",
    "\n",
    "    Args:\n",
    "        root_dir (Path): Root directory for storing data.\n",
    "        source_URL (str): URL from which to fetch the data.\n",
    "        local_data_file (Path): Local path to the data file.\n",
    "        unzip_dir (Path): Directory for unzipping the data.\n",
    "\n",
    "    Attributes:\n",
    "        root_dir (Path): Root directory for storing data.\n",
    "        source_URL (str): URL from which to fetch the data.\n",
    "        local_data_file (Path): Local path to the data file.\n",
    "        unzip_dir (Path): Directory for unzipping the data.\n",
    "    \"\"\"\n",
    "    root_dir: Path\n",
    "    source_URL: str\n",
    "    local_data_file: Path\n",
    "    unzip_dir: Path\n"
   ]
  },
  {
   "cell_type": "code",
   "execution_count": 2,
   "metadata": {},
   "outputs": [],
   "source": [
    "from textSummarizer.constants import *\n",
    "from textSummarizer.utils.common import read_yaml, create_directories, get_size"
   ]
  },
  {
   "cell_type": "code",
   "execution_count": 4,
   "metadata": {},
   "outputs": [],
   "source": [
    "import os\n",
    "import urllib.request as request\n",
    "import zipfile\n",
    "from textSummarizer.logging import logger\n",
    "from textSummarizer.utils.common import get_size"
   ]
  },
  {
   "cell_type": "code",
   "execution_count": 5,
   "metadata": {},
   "outputs": [],
   "source": [
    "class ConfigurationManager:\n",
    "    \"\"\"\n",
    "    Class for managing configuration settings and parameters.\n",
    "\n",
    "    Args:\n",
    "        config_filepath (str): Path to the YAML file containing configuration settings.\n",
    "        params_filepath (str): Path to the YAML file containing parameters.\n",
    "\n",
    "    Attributes:\n",
    "        config (dict): Configuration settings read from the config file.\n",
    "        params (dict): Parameters read from the params file.\n",
    "\n",
    "    Methods:\n",
    "        get_data_ingestion_config(): Retrieves data ingestion configuration settings.\n",
    "\n",
    "    \"\"\"\n",
    "    def __init__(\n",
    "        self, config_filepath, params_filepath):\n",
    "\n",
    "        self.config = read_yaml(config_filepath)\n",
    "        self.params = read_yaml(params_filepath)\n",
    "\n",
    "        create_directories([self.config.artifacts_root])\n",
    "\n",
    "    \n",
    "\n",
    "    def get_data_ingestion_config(self) -> DataIngestionConfig:\n",
    "        \"\"\"\n",
    "        Retrieves data ingestion configuration settings.\n",
    "\n",
    "        Returns:\n",
    "            DataIngestionConfig: An instance of DataIngestionConfig containing\n",
    "            configuration settings for data ingestion.\n",
    "\n",
    "        \"\"\"\n",
    "        config = self.config.data_ingestion\n",
    "\n",
    "        create_directories([config.root_dir])\n",
    "\n",
    "        data_ingestion_config = DataIngestionConfig(\n",
    "            root_dir=config.root_dir,\n",
    "            source_URL=config.source_URL,\n",
    "            local_data_file=config.local_data_file,\n",
    "            unzip_dir=config.unzip_dir \n",
    "        )\n",
    "\n",
    "        return data_ingestion_config\n"
   ]
  },
  {
   "cell_type": "code",
   "execution_count": 10,
   "metadata": {},
   "outputs": [
    {
     "name": "stdout",
     "output_type": "stream",
     "text": [
      "[2023-09-10 18:58:17,242: INFO: common: yaml file: /Users/nthabiseng/Desktop/text_summarization/config/config.yaml loaded successfully]\n",
      "[2023-09-10 18:58:17,277: INFO: common: yaml file: /Users/nthabiseng/Desktop/text_summarization/params.yaml loaded successfully]\n",
      "[2023-09-10 18:58:17,298: INFO: common: created directory at: artifacts]\n",
      "[2023-09-10 18:58:17,301: INFO: common: created directory at: artifacts/data_ingestion]\n",
      "[2023-09-10 18:58:19,547: INFO: 1434958058: artifacts/data_ingestion/data.zip download! with following info: \n",
      "Connection: close\n",
      "Content-Length: 7903594\n",
      "Cache-Control: max-age=300\n",
      "Content-Security-Policy: default-src 'none'; style-src 'unsafe-inline'; sandbox\n",
      "Content-Type: application/zip\n",
      "ETag: \"dbc016a060da18070593b83afff580c9b300f0b6ea4147a7988433e04df246ca\"\n",
      "Strict-Transport-Security: max-age=31536000\n",
      "X-Content-Type-Options: nosniff\n",
      "X-Frame-Options: deny\n",
      "X-XSS-Protection: 1; mode=block\n",
      "X-GitHub-Request-Id: 59A4:5849:1C63:2D97:64FDF5AA\n",
      "Accept-Ranges: bytes\n",
      "Date: Sun, 10 Sep 2023 16:58:19 GMT\n",
      "Via: 1.1 varnish\n",
      "X-Served-By: cache-cpt13826-CPT\n",
      "X-Cache: MISS\n",
      "X-Cache-Hits: 0\n",
      "X-Timer: S1694365099.777190,VS0,VE815\n",
      "Vary: Authorization,Accept-Encoding,Origin\n",
      "Access-Control-Allow-Origin: *\n",
      "Cross-Origin-Resource-Policy: cross-origin\n",
      "X-Fastly-Request-ID: e6a02a45bf2c1a89ae6f72b212fe04e9df81e136\n",
      "Expires: Sun, 10 Sep 2023 17:03:19 GMT\n",
      "Source-Age: 0\n",
      "\n",
      "]\n"
     ]
    }
   ],
   "source": [
    "CONFIG_FILE_PATH = Path('/Users/nthabiseng/Desktop/text_summarization/config/config.yaml')\n",
    "PARAMS_FILE_PATH = Path('/Users/nthabiseng/Desktop/text_summarization/params.yaml')\n",
    "\n",
    "try:\n",
    "    config = ConfigurationManager(CONFIG_FILE_PATH, PARAMS_FILE_PATH)\n",
    "    data_ingestion_config = config.get_data_ingestion_config()\n",
    "    data_ingestion = DataIngestion(config=data_ingestion_config)\n",
    "    data_ingestion.download_file()\n",
    "    data_ingestion.extract_zip_file()\n",
    "except Exception as e:\n",
    "    raise e"
   ]
  }
 ],
 "metadata": {
  "kernelspec": {
   "display_name": "textsummarization",
   "language": "python",
   "name": "python3"
  },
  "language_info": {
   "codemirror_mode": {
    "name": "ipython",
    "version": 3
   },
   "file_extension": ".py",
   "mimetype": "text/x-python",
   "name": "python",
   "nbconvert_exporter": "python",
   "pygments_lexer": "ipython3",
   "version": "3.8.17"
  },
  "orig_nbformat": 4
 },
 "nbformat": 4,
 "nbformat_minor": 2
}
